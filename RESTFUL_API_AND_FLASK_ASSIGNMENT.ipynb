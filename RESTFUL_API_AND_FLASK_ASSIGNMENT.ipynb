{
  "nbformat": 4,
  "nbformat_minor": 0,
  "metadata": {
    "colab": {
      "provenance": []
    },
    "kernelspec": {
      "name": "python3",
      "display_name": "Python 3"
    },
    "language_info": {
      "name": "python"
    }
  },
  "cells": [
    {
      "cell_type": "markdown",
      "source": [
        "# RESTFUL API AND FLASK"
      ],
      "metadata": {
        "id": "sm_vXlhPvrVN"
      }
    },
    {
      "cell_type": "markdown",
      "source": [
        "1. What is a RESTful API ?\n",
        "-  A RESTful API (Representational State Transfer API) is a way for two computer systems to communicate over the internet using standard HTTP methods (like GET, POST, PUT, DELETE). It follows a set of architectural principles designed to make interactions simple, scalable, and stateless.\n",
        "\n",
        "2. Explain the concept of API specification.\n",
        "-  An API specification is a detailed blueprint that defines how an API should behave — what it can do, how clients can interact with it, and what kind of data it will send or receive. It's like a contract between the API provider and the user.\n",
        "-  Key Concepts in an API Specification:\n",
        "-  Endpoints: The specific URLs (routes) that represent resources or actions.Example: GET /users, POST /login\n",
        "-  Methods (HTTP Verbs): Define the type of action allowed at each endpoint (e.g., GET, POST, PUT, DELETE).\n",
        "-  Request Parameters:\n",
        "-  Path parameters: /users/{id}\n",
        "-  Query parameters: /users?active=true\n",
        "-  Body: Typically used with POST or PUT requests to send data.\n",
        "-  Request/Response Formats: Defines what data must be sent (input) and what data will be received (output), often in JSON or XML.\n",
        "-  Authentication: Describes how the API is secured (e.g., API keys, OAuth tokens).\n",
        "-  Error Handling: Specifies how errors will be communicated (e.g., HTTP status codes, error messages).\n",
        "-  Data Models/Schemas: Structures that define how data is organized (e.g., what fields a \"user\" has).\n",
        "\n",
        "3. What is Flask, and why is it popular for building APIs ?\n",
        "-  Flask is a lightweight web framework in Python that makes it easy to build websites and APIs (ways for programs to talk to each other). It’s popular because it's simple, flexible, and beginner-friendly.\n",
        "-  REASONS FOR POPULARITY:\n",
        "-  Lightweight:It gives just the basics — one can add only what one need.Great for small or quick projects.\n",
        "-  Easy to Learn:Clear and readable Python code.Perfect for beginners or fast prototyping.\n",
        "-  Flexible:One can control everything — it doesn’t force a certain way to structure our app.\n",
        "-  Great for APIs:It works well with JSON (the most common API format).It has built-in support for handling routes and HTTP methods like GET and POST.\n",
        "-  Big Community & Tools:Lots of tutorials, extensions (like Flask-RESTful), and support.\n",
        "\n",
        "4. What is routing in Flask?\n",
        "-  Routing in Flask refers to the mechanism that associates a URL endpoint with a Python function. Each route defines a path in the application, and when a request is made to that path, Flask triggers the associated function to handle the request and return a response.\n",
        "\n",
        "5. How do you create a simple Flask application?\n",
        "-  The first step is to install Flask using Python's package manager, pip. We can install it by running the command pip install flask in our terminal.\n",
        "-  After installing Flask, create a new Python file (e.g., app.py) where we will write the code for our Flask application.\n",
        "-  The main component of a Flask app is an instance of the Flask class, which is used to create our app. We also need to define routes (URL patterns) and their associated functions that will handle requests.\n",
        "-   A route in Flask is a URL pattern (e.g., /home) that is associated with a function. When someone visits that URL, the corresponding function is executed and returns a response.\n",
        "-  To run the Flask application, open terminal, navigate to the folder where Python file is located, and run the command python app.py. This starts the Flask development server.\n",
        "-  After running the Flask app, open a web browser and go to http://127.0.0.1:5000/ to see the app in action.\n",
        "\n",
        "6. What are HTTP methods used in RESTful APIs?\n",
        "-  In RESTful APIs, HTTP methods (also known as HTTP verbs) define the type of action that should be performed on a resource. Here are the main HTTP methods used in RESTful APIs:\n",
        "-  GET : Retrieve data from the server.\n",
        "-  POST : Send data to the server to create a new resource.\n",
        "-  PUT : Update an existing resource by replacing it entirely.\n",
        "-  DELETE : Delete an existing resource.\n",
        "-  PATCH : Partially update an existing resource (only modify specific fields).\n",
        "-  HEAD : Similar to GET, but only retrieves the headers, not the body (useful for checking if a resource exists or getting metadata).\n",
        "-  OPTIONS : Retrieves the allowed methods (GET, POST, etc.) for a specific resource. It is often used to check the capabilities of an API or to check for CORS (Cross-Origin Resource Sharing) permissions.\n",
        "\n",
        "7. What is the purpose of the @app.route() decorator in Flask?\n",
        "-  The @app.route() decorator in Flask is used to associate a specific URL path with a Python function, which is called a view function. When a user accesses that URL in their browser, Flask calls the corresponding function and returns its result as the response.\n",
        "\n",
        "8. What is the difference between GET and POST HTTP methods?\n",
        "-  The GET method is used to request data from the server. When one use GET, any data she sends is included in the URL, such as ?name=John. This means the data is visible in the address bar, making it less secure for sending sensitive information. GET requests are useful for things like searching or loading pages, and they can be bookmarked or shared, since the data is in the URL. However, GET has limitations on how much data it can send.On the other hand, the POST method is used to send data to the server, often when submitting a form. The data is sent in the body of the request, not in the URL, so it's not visible in the browser address bar. This makes POST more secure for sending sensitive or large amounts of data. POST requests cannot be bookmarked, and they are typically used for actions like logging in, registering, or submitting forms.\n",
        "\n",
        "9. How do you handle errors in Flask APIs?\n",
        "-  In Flask APIs, errors are handled using error handlers, manual error responses, and try-except blocks. These methods ensure that your API returns useful and consistent messages when something goes wrong.\n",
        "-  Using @app.errorhandler():This decorator catches specific HTTP errors (like 404 or 500) and allows one to return custom JSON responses.\n",
        "-  Using abort() for Manual Errors:One can manually trigger an error using Flask’s abort() function when certain conditions aren't met.\n",
        "-  Using try-except Blocks:Python exceptions can be caught using try-except, and one can return a custom error message instead of crashing.\n",
        "\n",
        "\n",
        "10. How do you connect Flask to a SQL database?\n",
        "-  Install Flask-SQLAlchemy.\n",
        "-  Configure the database URI in your Flask app.\n",
        "-  Define models as Python classes.\n",
        "-  Use db.create_all() to create tables.\n",
        "-  Use SQLAlchemy methods to interact with the database.\n",
        "\n",
        "11. What is the role of Flask-SQLAlchemy?\n",
        "-  Flask-SQLAlchemy is an extension for Flask that helps you work easily with SQL databases using SQLAlchemy, a powerful Python SQL toolkit and Object Relational Mapper (ORM).\n",
        "-  ROLE OF FLASK SQAlchemy:\n",
        "-  Database Connection Management:It allows one to connect Flask to various SQL databases (like SQLite, MySQL, PostgreSQL) using a simple configuration.\n",
        "-  ORM (Object Relational Mapping):It let us interact with database tables as if they were regular Python classes and objects. We don’t need to write raw SQL queries.\n",
        "-  Simplifies SQLAlchemy Integration:It wraps SQLAlchemy to make it more Flask-friendly, managing things like app context, sessions, and table creation.\n",
        "-  Model Definition:We can define database tables using Python classes with attributes that map to columns.\n",
        "-  Migration Support (with Flask-Migrate):When used with Flask-Migrate, it also helps manage database schema changes over time.\n",
        "\n",
        "\n",
        "\n",
        "12. What are Flask blueprints, and how are they useful?\n",
        "-  Flask Blueprints are a way to organize our Flask application into smaller, modular components. They help us break up large applications into manageable pieces, making the codebase more maintainable and scalable.A Blueprint in Flask is like a mini-application. It allows us to define routes, templates, static files, and other app-specific functionality separately from the main app object. We then register the blueprint with the main app.\n",
        "-  USEFULNESS:\n",
        "-  Modularity: Separate concerns like authentication, admin, blog, etc., into their own modules.\n",
        "-  Reusability: Blueprints can be reused across different apps.\n",
        "-  Organization: Keeps the codebase clean and organized, especially for large applications.\n",
        "-  Team collaboration: Easier for teams to work on different components independently.\n",
        "\n",
        "13. What is the purpose of Flask's request object?\n",
        "-  In Flask, the request object is an instance of the Request class provided by the Werkzeug library (which Flask is built upon). It represents the incoming HTTP request and provides access to all the data sent by the client, including form data, query parameters, headers, cookies, files, and JSON payloads.\n",
        "\n",
        "14. How do you create a RESTful API endpoint using Flask?\n",
        "-  Install Flask\n",
        "-  Import Flask and necessary objects\n",
        "-  Initialize the Flask Application\n",
        "-  Create In-Memory Data (Example Data Store)\n",
        "-  Define RESTful Endpoints:GET – Retrieve All Resources,GET – Retrieve a Specific Resource by ID,POST – Create a New Resource,PUT – Update an Existing Resource,DELETE – Remove a Resource.\n",
        "-  Run the Flask App\n",
        "\n",
        "15. What is the purpose of Flask's jsonify() function?\n",
        "-  The purpose of jsonify() in Flask is to convert Python data structures (like dictionaries and lists) into a JSON response that is properly formatted and includes the correct Content-Type header (application/json).\n",
        "\n",
        "\n",
        "16. Explain Flask’s url_for() function.\n",
        "-  url_for(endpoint, **values) is a function provided by Flask that returns the URL associated with a given view function (called the \"endpoint\"), optionally substituting dynamic arguments and appending query parameters. It ensures that URLs are correctly constructed and automatically updated if route definitions change.\n",
        "\n",
        "17. How does Flask handle static files (CSS, JavaScript, etc.)?\n",
        "-  In Flask, static files (such as CSS, JavaScript, and images) are served from a dedicated static directory, and Flask automatically maps the URL path /static/<filename> to this folder, allowing these assets to be accessed by the client without the need for custom routing.\n",
        "\n",
        "-  Key Points:\n",
        "-  Flask uses a special folder named **static/** by default.\n",
        "-  Static files are automatically accessible at /static/<filename>.\n",
        "-  The url_for('static', filename='...') function is used to generate correct URLs in templates.\n",
        "-  No need to manually define routes for serving static content.\n",
        "This behavior is mainly intended for development. In production, a web server (e.g., Nginx) should serve these files.\n",
        "\n",
        "\n",
        "18. What is an API specification, and how does it help in building a Flask API?\n",
        "-  An API specification is a detailed document or description that defines the structure, behavior, and functionality of an API (Application Programming Interface). It provides clear guidelines for how clients and servers should interact, including the endpoints, request formats, response formats, authentication, error codes, and more.It helps in building a Flask API in the following ways:\n",
        "-  Clear Communication: API specs serve as a reference for both developers and clients, ensuring everyone understands how the API works, what data is expected, and how errors are handled.\n",
        "-  Consistency: By following an API specification, you ensure that your Flask API endpoints are consistent in terms of request and response structure, which leads to easier integration and fewer bugs.\n",
        "-  Documentation: API specifications automatically serve as documentation, making it easier for developers to understand and use your API. This is especially useful for external developers or teams working on different parts of the project.\n",
        "-  Validation & Testing: You can use tools like Swagger/OpenAPI to automatically generate API documentation, test requests, and validate whether the API conforms to the specification.\n",
        "-  Rapid Development: With a clear API spec, developers can start building their Flask API faster, as they already know the endpoints, expected input, and output formats.\n",
        "-  Error Handling: It clearly defines error codes and messages, making debugging easier and ensuring clients receive meaningful error responses.\n",
        "\n",
        "\n",
        "19. What are HTTP status codes, and why are they important in a Flask API?\n",
        "-  HTTP status codes are standardized codes returned by a web server to indicate the result of an HTTP request. These codes help the client (browser or API consumer) understand whether the request was successful, resulted in an error, or requires further action.They are part of the HTTP response and consist of a three-digit number. The first digit defines the general category of the response, while the other two digits provide more specific information.\n",
        "-  IMPORTANCE IN FLASK API:\n",
        "-  Indicates Request Outcome:Status codes provide essential feedback to the client about the result of the request. For example, a 200 OK status means the request was successful, while a 404 Not Found indicates the requested resource doesn’t exist.\n",
        "-  Helps with Debugging:HTTP status codes make it easier to identify issues, whether they’re caused by client-side errors (e.g., 400 Bad Request) or server-side problems (e.g., 500 Internal Server Error).\n",
        "-  Standardization:HTTP status codes follow a global standard, which means they are recognized and understood universally by developers, APIs, and browsers. This consistency is crucial for building interoperable systems.\n",
        "-  Improves User Experience:Proper status codes can help clients handle different outcomes gracefully. For example, 201 Created can indicate that a resource was successfully created, prompting the client to update its UI or data accordingly.\n",
        "-  Automates Error Handling:In an API, appropriate status codes allow for automation in error handling. If a client receives a 403 Forbidden response, it knows the request was valid but lacks the necessary permissions, and can adjust accordingly without having to parse error messages manually.\n",
        "\n",
        "\n",
        "20. How do you handle POST requests in Flask?\n",
        "-  Steps to Handle a POST Request in Flask:\n",
        "-  Import necessary modules\n",
        "-  Create a route with methods=['POST']\n",
        "-  Use request.form or request.get_json() to access data\n",
        "-  Return a response (with optional status code)\n",
        "\n",
        "\n",
        "21. How would you secure a Flask API?\n",
        "-  Securing a Flask API involves implementing a set of best practices and technical measures that protect your API from unauthorized access, data breaches, code injection, and other security threats.\n",
        "-  Use HTTPS (SSL/TLS):Always serve your API over HTTPS to encrypt data in transit.Use certificates from providers like Let's Encrypt.In production, this is typically handled by a reverse proxy like Nginx or Apache.\n",
        "-  Implement Authentication:Choose an appropriate method based on the API use case:\n",
        "-  ✅ a. API Keys:Each client is issued a unique key.Validate this key with every request.\n",
        "-  ✅ b. Token-Based Authentication (e.g., JWT):JSON Web Tokens (JWT) are stateless, compact, and secure.Clients must include the token in headers (e.g., Authorization: Bearer <token>).Use libraries like PyJWT or Flask-JWT-Extended.\n",
        "-  ✅ c. OAuth2:More advanced; used for user-based delegated access (e.g., logging in with Google).\n",
        "-  Use Authorization (Role/Access Control):Ensure only authorized users can access certain endpoints.Example: Admins can DELETE, but regular users can only GET or POST.Implement role checks within route handlers.\n",
        "-  Input Validation & Sanitization:Validate all incoming data to prevent injection attacks.Use libraries like marshmallow or pydantic for schema validation.Avoid using raw SQL; prefer ORMs like SQLAlchemy to prevent SQL injection.\n",
        "-  Database Security Tips:Use least privilege access for your API’s DB credentials.Enable parameterized queries to prevent SQL injection.Backup and encrypt your database.\n",
        "-  Keep Dependencies Updated:Regularly update Flask and other packages.Use pip-audit or tools like Dependabot to detect vulnerabilities in dependencies.\n",
        "-  Secure Configuration Management:Use environment variables for sensitive config (e.g., secret keys).Do not hardcode credentials in code.Use .env files and libraries like python-dotenv to manage settings securely.\n",
        "-  Hide Sensitive Information:Never log sensitive data (passwords, tokens).Don’t expose detailed error messages in production.Use Flask’s errorhandler to return generic errors to users.\n",
        "-  Use Flask Security Extensions:Flask-JWT-Extended – for JWT authentication.Flask-Login – for session-based login management.Flask-Limiter – to limit request rates.Flask-Talisman – to set secure HTTP headers.\n",
        "-  Protect Against Common Web Attacks:Cross-Site Scripting (XSS): Escape all user input if rendering HTML.Cross-Site Request Forgery (CSRF): Use CSRF tokens for forms (especially if authenticated sessions are used).Rate Limiting: Prevent abuse using libraries like Flask-Limiter.\n",
        "\n",
        "22. What is the significance of the Flask-RESTful extension?\n",
        "-  Significance of the Flask-RESTful Extension:\n",
        "-  Flask-RESTful let us define API endpoints as classes, making the code more organized and modular.\n",
        "-  Flask-RESTful provides the reqparse module to validate and parse incoming request data, reducing manual checks.\n",
        "-  It automatically converts Python dictionaries to JSON responses and let us return HTTP status codes easily.\n",
        "-  We can easily map resources (classes) to URLs using api.add_resource().\n",
        "-  With class-based architecture and organized routes, Flask-RESTful makes it easier to scale our API project, especially when dealing with many endpoints.\n",
        "\n",
        "23. What is the role of Flask’s session object?\n",
        "-  The session object in Flask is used to store and manage data across multiple HTTP requests made by the same user. Since HTTP is a stateless protocol, Flask's session helps maintain user-specific state, such as login status, preferences, or items in a shopping cart.Data stored in the session is saved on the client-side using cookies, but it is securely signed with a secret key to prevent tampering. This ensures the data’s integrity, although it is not encrypted (so sensitive information should not be stored in plain form).To use sessions, Flask requires a configured SECRET_KEY, which is used to cryptographically sign the session data.In summary, the session object plays a crucial role in enabling persistent user interactions in web applications, supporting features like user authentication, temporary storage, and personalized experiences across multiple requests.\n",
        "\n",
        "\n",
        "\n",
        "\n",
        "\n",
        "\n",
        "\n",
        "\n",
        "\n",
        "\n",
        "\n",
        "\n",
        "\n",
        "\n",
        "\n",
        "\n",
        "\n",
        "\n",
        "\n",
        "\n",
        "\n",
        "\n",
        "\n",
        "\n",
        "\n",
        "\n",
        "\n",
        "\n",
        "\n",
        "\n",
        "\n",
        "\n",
        "\n",
        "\n",
        "\n",
        "\n",
        "\n",
        "\n",
        "\n",
        "\n",
        "\n",
        "\n",
        "\n",
        "\n",
        "\n",
        "\n"
      ],
      "metadata": {
        "id": "bmCQycdMvyF_"
      }
    },
    {
      "cell_type": "markdown",
      "source": [
        "# PRACTICAL QUESTIONS"
      ],
      "metadata": {
        "id": "t7_AlCj088qO"
      }
    },
    {
      "cell_type": "markdown",
      "source": [
        "1. How do you create a basic Flask application?"
      ],
      "metadata": {
        "id": "puqcFJDK9Awa"
      }
    },
    {
      "cell_type": "code",
      "execution_count": null,
      "metadata": {
        "id": "kFGTXMWyvRVl",
        "colab": {
          "base_uri": "https://localhost:8080/"
        },
        "outputId": "4033273e-8584-456c-cd5f-c6c5683eb383"
      },
      "outputs": [
        {
          "output_type": "stream",
          "name": "stdout",
          "text": [
            " * Serving Flask app '__main__'\n",
            " * Debug mode: on\n"
          ]
        },
        {
          "output_type": "stream",
          "name": "stderr",
          "text": [
            "INFO:werkzeug:\u001b[31m\u001b[1mWARNING: This is a development server. Do not use it in a production deployment. Use a production WSGI server instead.\u001b[0m\n",
            " * Running on http://127.0.0.1:5000\n",
            "INFO:werkzeug:\u001b[33mPress CTRL+C to quit\u001b[0m\n",
            "INFO:werkzeug: * Restarting with stat\n"
          ]
        }
      ],
      "source": [
        "#pip install flask in terminal\n",
        "#Create a file named app.py and write the following code:\n",
        "#In your terminal, navigate to the folder where app.py is located and run:python app.py\n",
        "#Open your browser and go to:http://127.0.0.1:5000/\n",
        "from flask import Flask\n",
        "app = Flask(__name__)\n",
        "@app.route('/')\n",
        "def home():\n",
        "    return \"Hello, Flask!\"\n",
        "if __name__ == '__main__':\n",
        "      app.run(debug=True)"
      ]
    },
    {
      "cell_type": "markdown",
      "source": [
        "2. How do you serve static files like images or CSS in Flask?\n",
        "-  In Flask, serving static files such as images, CSS, or JavaScript is straightforward because Flask automatically looks for these files in a folder named static within your project directory. To serve static files, you first organize your project by creating a static folder where you place all your images, CSS files, and other assets. For example, you might have files like style.css or logo.png inside this folder. When building your HTML templates (usually stored in a separate templates folder), you reference these static files using the url_for function, which dynamically generates the correct URL path to the static assets. For instance, in your HTML, you can link a CSS file by using <link rel=\"stylesheet\" href=\"{{ url_for('static', filename='style.css') }}\">, or display an image with <img src=\"{{ url_for('static', filename='logo.png') }}\" alt=\"Logo\">. Importantly, you do not need to write any extra Python code to serve these static files—Flask takes care of serving everything inside the static directory automatically. When you run your Flask application and access it via a web browser, your CSS styles and images load seamlessly, enabling you to build visually rich and interactive web pages easily."
      ],
      "metadata": {
        "id": "iIgp8RrBaJ-G"
      }
    },
    {
      "cell_type": "code",
      "source": [
        "from flask import Flask, render_template\n",
        "\n",
        "app = Flask(__name__)\n",
        "\n",
        "@app.route('/')\n",
        "def home():\n",
        "    return render_template('index.html')\n",
        "\n",
        "if __name__ == '__main__':\n",
        "    app.run(debug=True)"
      ],
      "metadata": {
        "colab": {
          "base_uri": "https://localhost:8080/"
        },
        "id": "b7Lt2zoBdISL",
        "outputId": "06bc3223-065f-401c-bffb-ca5cda5ad6c2"
      },
      "execution_count": null,
      "outputs": [
        {
          "output_type": "stream",
          "name": "stdout",
          "text": [
            " * Serving Flask app '__main__'\n",
            " * Debug mode: on\n"
          ]
        },
        {
          "output_type": "stream",
          "name": "stderr",
          "text": [
            "INFO:werkzeug:\u001b[31m\u001b[1mWARNING: This is a development server. Do not use it in a production deployment. Use a production WSGI server instead.\u001b[0m\n",
            " * Running on http://127.0.0.1:5000\n",
            "INFO:werkzeug:\u001b[33mPress CTRL+C to quit\u001b[0m\n",
            "INFO:werkzeug: * Restarting with stat\n"
          ]
        }
      ]
    },
    {
      "cell_type": "markdown",
      "source": [
        "3. How do you define different routes with different HTTP methods in Flask?\n",
        "-  In Flask, you define different routes that respond to specific HTTP methods by using the @app.route() decorator along with the methods parameter. By default, Flask routes only respond to GET requests, which are typically used to retrieve data from the server. However, you can specify other HTTP methods such as POST, PUT, DELETE, and more by passing a list of allowed methods to the methods argument in the route decorator. For example, a route defined with @app.route('/submit', methods=['GET', 'POST']) can handle both GET and POST requests. Inside the route’s function, you can check which HTTP method was used by inspecting request.method and then provide different responses based on whether it was a GET or a POST request. This approach allows you to handle multiple methods on the same URL. Alternatively, for more complex applications, Flask provides class-based views where different HTTP methods can be handled by separate methods in the class. Overall, using the methods parameter in Flask routes enables you to build flexible web applications that respond appropriately to various client requests."
      ],
      "metadata": {
        "id": "uoktl6xndWoy"
      }
    },
    {
      "cell_type": "code",
      "source": [
        "#Basic route (default GET method):\n",
        "@app.route('/hello')\n",
        "def hello():\n",
        "    return \"Hello, GET request!\"\n",
        "#Route accepting multiple HTTP methods:\n",
        "@app.route('/submit', methods=['GET', 'POST'])\n",
        "def submit():\n",
        "    if request.method == 'POST':\n",
        "        return \"You sent a POST request!\"\n",
        "    else:\n",
        "        return \"This is a GET request.\"\n",
        "\n",
        "\n"
      ],
      "metadata": {
        "id": "lAOnv8ElgJ9O"
      },
      "execution_count": null,
      "outputs": []
    },
    {
      "cell_type": "markdown",
      "source": [
        "4. How do you render HTML templates in Flask?\n",
        "-  In Flask, rendering HTML templates is done using the render_template function, which allows you to separate your Python code from the HTML content you want to display to users. Instead of writing raw HTML inside your Python files, you create separate HTML files (called templates) that live in a special folder named templates. Flask automatically looks inside this folder for your template files. To display a webpage, you write a route function in Python that calls render_template with the name of the HTML file you want to show. For example, if you have a file named index.html inside the templates folder, you can render it by writing render_template('index.html') inside your route function. Additionally, render_template lets you pass variables from your Python code into the HTML template, so your pages can show dynamic content. This way, Flask makes it easy to build web pages that look nice and update with real data, all while keeping your HTML and Python code clean and organized."
      ],
      "metadata": {
        "id": "WczBT7qfhYNh"
      }
    },
    {
      "cell_type": "code",
      "source": [
        "from flask import Flask, render_template\n",
        "\n",
        "app = Flask(__name__)\n",
        "\n",
        "@app.route('/')\n",
        "def home():\n",
        "    return render_template('index.html')"
      ],
      "metadata": {
        "id": "cXjmr8uYijeG"
      },
      "execution_count": null,
      "outputs": []
    },
    {
      "cell_type": "code",
      "source": [
        "@app.route('/hello/<name>')\n",
        "def hello(name):\n",
        "    return render_template('hello.html', user_name=name)"
      ],
      "metadata": {
        "id": "wJESv3pvYxff"
      },
      "execution_count": null,
      "outputs": []
    },
    {
      "cell_type": "markdown",
      "source": [
        "5. How can you generate URLs for routes in Flask using url_for?\n",
        "-  In Flask, the url_for function is used to generate URLs for our route functions dynamically, rather than hardcoding them directly into our code or HTML. This makes our application more flexible and easier to maintain, especially if our route paths change later. Instead of writing a URL like /profile/alice directly, we use url_for('profile', username='alice'), where 'profile' is the name of the route function. Flask will automatically generate the correct URL based on the current routing rules. This is helpful because if we update the route path in our Python code, all our links will still work without needing to be manually updated. The url_for function can also be used in HTML templates with Jinja2 syntax, such as <a href=\"{{ url_for('profile', username='alice') }}\"> ,  allowing our templates to stay in sync with our backend routes. Additionally, url_for is used to link to static files, such as CSS or images, by calling url_for('static', filename='style.css'). Overall, using url_for improves code readability, ensures link accuracy, and supports cleaner web development in Flask.\n",
        "\n",
        "\n",
        "\n",
        "\n",
        "\n",
        "\n",
        "\n",
        "\n",
        "  "
      ],
      "metadata": {
        "id": "SK0pjBOOi0AP"
      }
    },
    {
      "cell_type": "code",
      "source": [
        "@app.route('/profile/<username>')\n",
        "def profile(username):\n",
        "    return f\"User: {username}\""
      ],
      "metadata": {
        "id": "5XhVlxTO3VYm"
      },
      "execution_count": null,
      "outputs": []
    },
    {
      "cell_type": "code",
      "source": [
        "url_for('profile', username='alice')"
      ],
      "metadata": {
        "id": "WQPJLpVC3MmG"
      },
      "execution_count": null,
      "outputs": []
    },
    {
      "cell_type": "markdown",
      "source": [
        "6. How do you handle forms in Flask?\n",
        "-  Handling forms in Flask involves a few key steps: creating the HTML form, setting up a Flask route to display the form, and processing the data when the form is submitted. Here’s how it works:First, you create an HTML form inside a template file (usually in the templates folder). This form typically includes input fields like text boxes, checkboxes, or buttons, and it specifies a method (usually POST) and an action URL where the form data should be sent.Next, in your Flask app, you define a route that handles both displaying the form (on a GET request) and processing the submitted data (on a POST request). Inside this route function, you check the request method using request.method. If it’s GET, you render the form template so the user can fill it out. If it’s POST, you collect the submitted form data from request.form, validate or process it as needed, and then typically return a response or redirect the user."
      ],
      "metadata": {
        "id": "xacj4FlN3m01"
      }
    },
    {
      "cell_type": "code",
      "source": [
        "from flask import Flask, request, render_template, redirect, url_for\n",
        "\n",
        "app = Flask(__name__)\n",
        "\n",
        "@app.route('/submit', methods=['GET', 'POST'])\n",
        "def submit():\n",
        "    if request.method == 'POST':\n",
        "        name = request.form.get('name')\n",
        "        return redirect(url_for('thank_you'))\n",
        "    return render_template('form.html')\n",
        "\n",
        "@app.route('/thank_you')\n",
        "def thank_you():\n",
        "    return \"Thanks for submitting the form!\""
      ],
      "metadata": {
        "id": "aEr2tkUD-SJa"
      },
      "execution_count": null,
      "outputs": []
    },
    {
      "cell_type": "markdown",
      "source": [
        "7. How can you validate form data in Flask?\n",
        "-  To validate form data in Flask, we can either do it manually or use an extension like Flask-WTF for a more structured approach. Manual validation involves accessing the submitted form data through request.form and then checking each field’s value with simple Python conditions—for example, verifying that a username is long enough or that an email contains an “@” symbol. While this works for small or simple forms, it can get cumbersome as the form grows in complexity. A better practice is to use Flask-WTF, which integrates the WTForms library into Flask. Flask-WTF allows us to define forms as Python classes, specify validators such as DataRequired, Length, and Email, and handle form validation and error messages cleanly. It also adds built-in CSRF protection, which is important for security. When using Flask-WTF, we create a form class with fields and validators, then in our route, we instantiate the form and call validate_on_submit() to check if the form data is valid. If it’s valid, we can process the data; if not, the errors are available to display in our templates. Overall, Flask-WTF is the recommended way for form validation in Flask apps because it keeps our code clean, secure, and maintainable."
      ],
      "metadata": {
        "id": "AatMB0W--dT2"
      }
    },
    {
      "cell_type": "code",
      "source": [
        "from flask_wtf import FlaskForm\n",
        "from wtforms import StringField, PasswordField, SubmitField\n",
        "from wtforms.validators import DataRequired, Length\n",
        "\n",
        "class LoginForm(FlaskForm):\n",
        "    username = StringField('Username', validators=[DataRequired()])\n",
        "    password = PasswordField('Password', validators=[DataRequired(), Length(min=6)])\n",
        "    submit = SubmitField('Login')"
      ],
      "metadata": {
        "id": "ILGHQ58A4Oub"
      },
      "execution_count": null,
      "outputs": []
    },
    {
      "cell_type": "code",
      "source": [
        "from flask import render_template\n",
        "\n",
        "@app.route('/login', methods=['GET', 'POST'])\n",
        "def login():\n",
        "    form = LoginForm()\n",
        "    if form.validate_on_submit():\n",
        "        return f\"Welcome, {form.username.data}!\"\n",
        "    return render_template('login.html', form=form)"
      ],
      "metadata": {
        "id": "dzBYAfTN427A"
      },
      "execution_count": null,
      "outputs": []
    },
    {
      "cell_type": "code",
      "source": [
        "from flask import Flask, request, render_template_string\n",
        "\n",
        "app = Flask(__name__)\n",
        "\n",
        "@app.route('/login', methods=['GET', 'POST'])\n",
        "def login():\n",
        "    if request.method == 'POST':\n",
        "        username = request.form.get('username')\n",
        "        password = request.form.get('password')\n",
        "\n",
        "        # Manual validation\n",
        "        if not username or not password:\n",
        "            return \"Missing username or password\", 400\n",
        "        if len(password) < 6:\n",
        "            return \"Password too short\", 400\n",
        "\n",
        "        return f\"Welcome, {username}!\"\n",
        "\n",
        "    return '''\n",
        "    <form method=\"post\">\n",
        "        Username: <input name=\"username\"><br>\n",
        "        Password: <input name=\"password\" type=\"password\"><br>\n",
        "        <input type=\"submit\">\n",
        "    </form>\n",
        "    '''\n",
        "\n",
        "if __name__ == '__main__':\n",
        "    app.run(debug=True)"
      ],
      "metadata": {
        "id": "XkqO2p9P55TI"
      },
      "execution_count": null,
      "outputs": []
    },
    {
      "cell_type": "markdown",
      "source": [
        "8. How do you manage sessions in Flask?\n",
        "-  Steps to manage sessions in Flask:\n",
        "-  Import Flask and session:We import session from the flask module to work with session data.\n",
        "-  Set a secret key:We must define a secret_key in our app. It helps Flask securely sign the session cookies. Without it, sessions won’t work.\n",
        "-  Store data in session:We can add information to the session using session['key'] = value.\n",
        "-  Retrieve data from session:We can get the value anytime using session.get('key').\n",
        "-  Remove data from session:We can delete something using session.pop('key')."
      ],
      "metadata": {
        "id": "OSgQpRp3K3i3"
      }
    },
    {
      "cell_type": "code",
      "source": [
        "from flask import Flask, session, redirect, url_for, request\n",
        "\n",
        "# Create a new Flask app\n",
        "app = Flask(__name__)\n",
        "\n",
        "# This is like a secret password that keeps our session data safe\n",
        "app.secret_key = 'my_very_secret_key'\n",
        "\n",
        "# This route sets a username in session\n",
        "@app.route('/login', methods=['POST', 'GET'])\n",
        "def login():\n",
        "    if request.method == 'POST':\n",
        "        # We take the name from the form and save it in session\n",
        "        session['username'] = request.form['username']\n",
        "        return redirect(url_for('profile'))\n",
        "    return '''\n",
        "        <form method=\"post\">\n",
        "            <input type=\"text\" name=\"username\">\n",
        "            <input type=\"submit\" value=\"Login\">\n",
        "        </form>\n",
        "    '''\n",
        "\n",
        "# This route uses the session value\n",
        "@app.route('/profile')\n",
        "def profile():\n",
        "    if 'username' in session:\n",
        "        return f\"Hello, {session['username']}! Welcome to your profile.\"\n",
        "    return \"You are not logged in!\"\n",
        "\n",
        "# This route logs the user out by removing session data\n",
        "@app.route('/logout')\n",
        "def logout():\n",
        "    session.pop('username', None)\n",
        "    return redirect(url_for('login'))\n",
        "\n",
        "# Run the app\n",
        "if __name__ == '__main__':\n",
        "    app.run(debug=True)"
      ],
      "metadata": {
        "colab": {
          "base_uri": "https://localhost:8080/"
        },
        "id": "KGhSZBXKowSz",
        "outputId": "f6590dd8-280e-440d-e26e-ae80015bb06f"
      },
      "execution_count": 1,
      "outputs": [
        {
          "output_type": "stream",
          "name": "stdout",
          "text": [
            " * Serving Flask app '__main__'\n",
            " * Debug mode: on\n"
          ]
        },
        {
          "output_type": "stream",
          "name": "stderr",
          "text": [
            "INFO:werkzeug:\u001b[31m\u001b[1mWARNING: This is a development server. Do not use it in a production deployment. Use a production WSGI server instead.\u001b[0m\n",
            " * Running on http://127.0.0.1:5000\n",
            "INFO:werkzeug:\u001b[33mPress CTRL+C to quit\u001b[0m\n",
            "INFO:werkzeug: * Restarting with stat\n"
          ]
        }
      ]
    },
    {
      "cell_type": "markdown",
      "source": [
        "9. How do you redirect to a different route in Flask?"
      ],
      "metadata": {
        "id": "mqxh4M30pXei"
      }
    },
    {
      "cell_type": "code",
      "source": [
        "from flask import Flask, redirect, url_for\n",
        "\n",
        "app = Flask(__name__)\n",
        "\n",
        "# This is the home route\n",
        "@app.route('/')\n",
        "def home():\n",
        "    return \"This is the home page. Go to /go to get redirected.\"\n",
        "\n",
        "# This is the route where we redirect the user\n",
        "@app.route('/go')\n",
        "def go_somewhere():\n",
        "    # We want to send the user to the welcome page\n",
        "    return redirect(url_for('welcome'))\n",
        "\n",
        "# This is the final page\n",
        "@app.route('/welcome')\n",
        "def welcome():\n",
        "    return \"Welcome! You've been redirected here.\"\n",
        "\n",
        "if __name__ == '__main__':\n",
        "    app.run(debug=True)"
      ],
      "metadata": {
        "id": "hpuquETKB-WP",
        "colab": {
          "base_uri": "https://localhost:8080/"
        },
        "outputId": "bcfd7635-778c-41ef-c5a2-8e871446d482"
      },
      "execution_count": null,
      "outputs": [
        {
          "metadata": {
            "tags": null
          },
          "name": "stdout",
          "output_type": "stream",
          "text": [
            " * Serving Flask app '__main__'\n",
            " * Debug mode: on\n"
          ]
        },
        {
          "metadata": {
            "tags": null
          },
          "name": "stderr",
          "output_type": "stream",
          "text": [
            "INFO:werkzeug:\u001b[31m\u001b[1mWARNING: This is a development server. Do not use it in a production deployment. Use a production WSGI server instead.\u001b[0m\n",
            " * Running on http://127.0.0.1:5000\n",
            "INFO:werkzeug:\u001b[33mPress CTRL+C to quit\u001b[0m\n",
            "INFO:werkzeug: * Restarting with stat\n"
          ]
        }
      ]
    },
    {
      "cell_type": "markdown",
      "source": [
        "10. How do you handle errors in Flask (e.g., 404)?"
      ],
      "metadata": {
        "id": "rwDE8i53qJRo"
      }
    },
    {
      "cell_type": "code",
      "source": [
        "from flask import Flask\n",
        "\n",
        "app = Flask(__name__)\n",
        "\n",
        "# Normal route\n",
        "@app.route('/')\n",
        "def home():\n",
        "    return \"Welcome to the Home Page!\"\n",
        "\n",
        "# Custom 404 error handler\n",
        "@app.errorhandler(404)\n",
        "def page_not_found(error):\n",
        "    return \"<h1>Oops! Page not found (404)</h1>\", 404\n",
        "\n",
        "if __name__ == '__main__':\n",
        "    app.run(debug=True)"
      ],
      "metadata": {
        "id": "6AtBVgj6itcE"
      },
      "execution_count": null,
      "outputs": []
    },
    {
      "cell_type": "markdown",
      "source": [
        "11. How do you structure a Flask app using Blueprints?"
      ],
      "metadata": {
        "id": "xf-8nbqbq7Gx"
      }
    },
    {
      "cell_type": "code",
      "source": [
        "from flask import Blueprint\n",
        "\n",
        "# Create a Blueprint called 'auth'\n",
        "auth = Blueprint('auth', __name__)\n",
        "\n",
        "# Import routes from routes.py (defined later)\n",
        "from . import routes"
      ],
      "metadata": {
        "id": "g4LvR79Ur3de"
      },
      "execution_count": null,
      "outputs": []
    },
    {
      "cell_type": "code",
      "source": [
        "from . import auth\n",
        "\n",
        "@auth.route('/login')\n",
        "def login():\n",
        "    return \"This is the login page\"\n",
        "\n",
        "@auth.route('/logout')\n",
        "def logout():\n",
        "    return \"You are now logged out\""
      ],
      "metadata": {
        "id": "KzKTLD3zqqzH"
      },
      "execution_count": null,
      "outputs": []
    },
    {
      "cell_type": "code",
      "source": [
        "from flask import Blueprint\n",
        "\n",
        "# Create a Blueprint called 'main'\n",
        "main = Blueprint('main', __name__)\n",
        "\n",
        "# Import routes from routes.py\n",
        "from . import routes"
      ],
      "metadata": {
        "id": "wiWgNmVxsJwI"
      },
      "execution_count": null,
      "outputs": []
    },
    {
      "cell_type": "code",
      "source": [
        "from . import main\n",
        "\n",
        "@main.route('/')\n",
        "def home():\n",
        "    return \"Welcome to the Home Page\"\n",
        "\n",
        "@main.route('/dashboard')\n",
        "def dashboard():\n",
        "    return \"This is the dashboard\""
      ],
      "metadata": {
        "id": "QCiKpBL7sXXo"
      },
      "execution_count": null,
      "outputs": []
    },
    {
      "cell_type": "code",
      "source": [
        "from flask import Flask\n",
        "from auth import auth as auth_blueprint\n",
        "from main import main as main_blueprint\n",
        "\n",
        "app = Flask(__name__)\n",
        "\n",
        "# Register the blueprints\n",
        "app.register_blueprint(auth_blueprint, url_prefix='/auth')  # auth routes start with /auth\n",
        "app.register_blueprint(main_blueprint)                      # main routes at root\n",
        "\n",
        "if __name__ == '__main__':\n",
        "    app.run(debug=True)"
      ],
      "metadata": {
        "id": "5ZoUNAmYsbpB"
      },
      "execution_count": null,
      "outputs": []
    },
    {
      "cell_type": "markdown",
      "source": [
        "12. How do you define a custom Jinja filter in Flask?\n",
        "-   In Flask, we define a custom Jinja filter when we want to process or format data in our HTML templates in a way that built-in filters don’t provide. A Jinja filter is essentially a Python function that transforms a variable’s value before displaying it in the template. Filters are applied in templates using the pipe symbol (|). For example, if we write {{ \"hello\" | upper }}, Jinja converts the string to uppercase using the built-in upper filter. However, when we want to apply our own transformation—like reversing a string or formatting a date—we create a custom filter.To define a custom Jinja filter, we first write a regular Python function that accepts a value and returns the modified result. For instance, a function that reverses a string would look like def reverse_string(value): return value[::-1]. Then, we register this function as a Jinja filter using either @app.template_filter('filter_name') or app.add_template_filter(function, name='filter_name'). This tells Flask that the function can now be used inside templates using the specified filter name.In our HTML template, we can now use this custom filter by writing something like {{ name | reverse }}, which will pass the variable name to the reverse filter before rendering. When the page is loaded, the output will display the reversed string. This pattern works not only for string manipulation but also for more advanced use cases like formatting dates, masking emails, or shortening long text. By using custom filters, we keep our templates clean and our formatting logic neatly encapsulated in reusable functions."
      ],
      "metadata": {
        "id": "OS8iTVzxsmCC"
      }
    },
    {
      "cell_type": "code",
      "source": [
        "#Steps to define a custom Jinja filter:\n",
        "#Define a Python function\n",
        "#Register it as a filter using app.template_filter()\n",
        "#Use it in your template with |\n",
        "from flask import Flask, render_template\n",
        "\n",
        "app = Flask(__name__)\n",
        "\n",
        "# Step 1: Define the function\n",
        "def reverse_string(value):\n",
        "    return value[::-1]\n",
        "\n",
        "# Step 2: Register the function as a Jinja filter\n",
        "app.template_filter('reverse')(reverse_string)\n",
        "\n",
        "# Optional alternative way:\n",
        "# app.add_template_filter(reverse_string, name='reverse')\n",
        "\n",
        "@app.route('/')\n",
        "def home():\n",
        "    name = \"Flask\"\n",
        "    return render_template('index.html', name=name)\n",
        "\n",
        "if __name__ == '__main__':\n",
        "    app.run(debug=True)"
      ],
      "metadata": {
        "id": "ApXbBUJ3sud4"
      },
      "execution_count": null,
      "outputs": []
    },
    {
      "cell_type": "markdown",
      "source": [
        "13.  How can you redirect with query parameters in Flask?\n"
      ],
      "metadata": {
        "id": "IUFv6XGQt5U7"
      }
    },
    {
      "cell_type": "code",
      "source": [
        "from flask import Flask, redirect, url_for, request\n",
        "\n",
        "app = Flask(__name__)\n",
        "\n",
        "# Route to trigger redirection with query parameters\n",
        "@app.route('/go')\n",
        "def go():\n",
        "    return redirect(url_for('welcome', name='Alice', age=28))\n",
        "\n",
        "# Destination route\n",
        "@app.route('/welcome')\n",
        "def welcome():\n",
        "    name = request.args.get('name')\n",
        "    age = request.args.get('age')\n",
        "    return f\"Welcome {name}, age {age}!\"\n",
        "\n",
        "if __name__ == '__main__':\n",
        "    app.run(debug=True)"
      ],
      "metadata": {
        "id": "zfiZNWXPtgqx"
      },
      "execution_count": null,
      "outputs": []
    },
    {
      "cell_type": "markdown",
      "source": [
        "14. How do you return JSON responses in Flask?"
      ],
      "metadata": {
        "id": "um0Grz5Kyll8"
      }
    },
    {
      "cell_type": "code",
      "source": [
        "from flask import Flask, jsonify\n",
        "\n",
        "app = Flask(__name__)\n",
        "\n",
        "@app.route('/api/user')\n",
        "def get_user():\n",
        "    data = {\n",
        "        'name': 'Alice',\n",
        "        'age': 25,\n",
        "        'status': 'active'\n",
        "    }\n",
        "    return jsonify(data)\n",
        "\n",
        "if __name__ == '__main__':\n",
        "    app.run(debug=True)"
      ],
      "metadata": {
        "id": "GesOqDzPyrxf"
      },
      "execution_count": null,
      "outputs": []
    },
    {
      "cell_type": "code",
      "source": [
        "return jsonify({'message': 'Created'}), 201"
      ],
      "metadata": {
        "id": "jJQqP9Bc2vz_"
      },
      "execution_count": null,
      "outputs": []
    },
    {
      "cell_type": "markdown",
      "source": [
        "15. How do you capture URL parameters in Flask?"
      ],
      "metadata": {
        "id": "0zu-SE_E2yjo"
      }
    },
    {
      "cell_type": "markdown",
      "source": [
        "-   Use <parameter> in the route to capture values from the URL.\n",
        "-   Flask passes those values as arguments to your view function.\n",
        "-   You can specify types like <int:id>, <float:x>, or <path:filename>.\n",
        "-   This makes your app more flexible and dynamic."
      ],
      "metadata": {
        "id": "TxYjrN_u32RL"
      }
    },
    {
      "cell_type": "code",
      "source": [
        "@app.route('/user/<username>')\n",
        "def show_user_profile(username):\n",
        "    return f'User: {username}'"
      ],
      "metadata": {
        "id": "vixyS_tW2_iR"
      },
      "execution_count": null,
      "outputs": []
    },
    {
      "cell_type": "code",
      "source": [
        "app.route('/post/<int:post_id>/comment/<int:comment_id>')\n",
        "def show_comment(post_id, comment_id):\n",
        "    return f'Post ID: {post_id}, Comment ID: {comment_id}'"
      ],
      "metadata": {
        "id": "F19-SGrl4LU6"
      },
      "execution_count": null,
      "outputs": []
    }
  ]
}